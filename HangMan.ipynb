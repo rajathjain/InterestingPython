{
 "cells": [
  {
   "cell_type": "code",
   "execution_count": null,
   "metadata": {
    "collapsed": false
   },
   "outputs": [
    {
     "name": "stdout",
     "output_type": "stream",
     "text": [
      "B_RA\n",
      "Enter your next choice of Alphabet\n",
      "Enter the letterI\n",
      "Enter your next choice of Alphabet\n",
      "Enter the letterR\n",
      "Enter your next choice of Alphabet\n",
      "Enter the letterA\n",
      "Enter your next choice of Alphabet\n",
      "Enter the letterC\n",
      "Enter your next choice of Alphabet\n",
      "Enter the letterD\n",
      "Enter your next choice of Alphabet\n",
      "Enter the letters\n",
      "Enter your next choice of Alphabet\n",
      "Enter the letters\n",
      "Enter your next choice of Alphabet\n",
      "Enter the letters\n",
      "Enter your next choice of Alphabet\n",
      "Enter the letters\n",
      "Enter your next choice of Alphabet\n",
      "Enter the letter\n",
      "Enter your next choice of Alphabet\n",
      "Enter the letters\n",
      "Enter your next choice of Alphabet\n",
      "Enter the letters\n",
      "Enter your next choice of Alphabet\n",
      "Enter the letters\n",
      "Enter your next choice of Alphabet\n",
      "Enter the letter\n",
      "Enter your next choice of Alphabet\n",
      "Enter the letters\n",
      "Enter your next choice of Alphabet\n",
      "Enter the letters\n",
      "Enter your next choice of Alphabet\n",
      "Enter the letter\n",
      "Enter your next choice of Alphabet\n",
      "Enter the letters\n",
      "Enter your next choice of Alphabet\n",
      "Enter the letters\n",
      "Enter your next choice of Alphabet\n"
     ]
    }
   ],
   "source": [
    "import random\n",
    "words=(\"BIRA\",\"KINGFISHER\",\"CORONA\")\n",
    "rand=random.randint(0,len(words)-1)\n",
    "word=words[rand]\n",
    "final_word=words[rand]\n",
    "length=len(word)\n",
    "word=list(word)\n",
    "miss=[]\n",
    "for i in range(0,int(length/2)):\n",
    "    rand1=random.randint(0,length)\n",
    "    if(rand1 in miss):\n",
    "        continue\n",
    "    miss.append(rand1)\n",
    "for i in range(0,length):\n",
    "    if(i in miss):\n",
    "        word[i]=\"_\"\n",
    "dlm=''\n",
    "p = dlm.join(word)\n",
    "print(p)\n",
    "\n",
    "hang=list(\"HANGMAN\")\n",
    "str1=[]\n",
    "str2=list(p)\n",
    "j=0 str1!=\"HANGMAN\"\n",
    "while(str1!=\"HANGMAN\"):\n",
    "    while(str2!=final_word):\n",
    "        print(\"Enter your next choice of Alphabet\")\n",
    "        alpha=input(\"Enter the letter\")\n",
    "        for i in range(0,length-1):\n",
    "            if(word[i]==alpha):\n",
    "                str2[i]=alpha\n",
    "            else:\n",
    "                str1.append(hang[j])\n",
    "                j=j+1\n",
    "print(str2)\n"
   ]
  },
  {
   "cell_type": "code",
   "execution_count": null,
   "metadata": {
    "collapsed": false
   },
   "outputs": [],
   "source": [
    "p = ['a', 'm']\n",
    "dlm=''\n",
    "\n",
    "dlm.join(p)"
   ]
  },
  {
   "cell_type": "code",
   "execution_count": null,
   "metadata": {
    "collapsed": true
   },
   "outputs": [],
   "source": []
  }
 ],
 "metadata": {
  "kernelspec": {
   "display_name": "Python 3",
   "language": "python",
   "name": "python3"
  }
 },
 "nbformat": 4,
 "nbformat_minor": 2
}
